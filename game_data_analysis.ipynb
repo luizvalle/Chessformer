{
 "cells": [
  {
   "cell_type": "markdown",
   "id": "4f634cc9",
   "metadata": {},
   "source": [
    "# Chessformer - Data analysis"
   ]
  },
  {
   "cell_type": "markdown",
   "id": "253dd74c",
   "metadata": {},
   "source": [
    "## Imports"
   ]
  },
  {
   "cell_type": "code",
   "execution_count": 2,
   "id": "ba27cda0-042f-4b20-a26e-865a50a4ab7d",
   "metadata": {},
   "outputs": [],
   "source": [
    "import duckdb"
   ]
  },
  {
   "cell_type": "markdown",
   "id": "ab40e291-ea6f-4d81-9263-7217382862c9",
   "metadata": {},
   "source": [
    "## Data analysis"
   ]
  },
  {
   "cell_type": "code",
   "execution_count": 4,
   "id": "45981241-31fc-48c9-9ac3-5eb6d7141153",
   "metadata": {},
   "outputs": [
    {
     "data": {
      "text/html": [
       "<div>\n",
       "<style scoped>\n",
       "    .dataframe tbody tr th:only-of-type {\n",
       "        vertical-align: middle;\n",
       "    }\n",
       "\n",
       "    .dataframe tbody tr th {\n",
       "        vertical-align: top;\n",
       "    }\n",
       "\n",
       "    .dataframe thead th {\n",
       "        text-align: right;\n",
       "    }\n",
       "</style>\n",
       "<table border=\"1\" class=\"dataframe\">\n",
       "  <thead>\n",
       "    <tr style=\"text-align: right;\">\n",
       "      <th></th>\n",
       "      <th>max(((len(Moves) - len(replace(Moves, ' ', ''))) + 1))</th>\n",
       "    </tr>\n",
       "  </thead>\n",
       "  <tbody>\n",
       "    <tr>\n",
       "      <th>0</th>\n",
       "      <td>2404</td>\n",
       "    </tr>\n",
       "  </tbody>\n",
       "</table>\n",
       "</div>"
      ],
      "text/plain": [
       "   max(((len(Moves) - len(replace(Moves, ' ', ''))) + 1))\n",
       "0                                               2404     "
      ]
     },
     "execution_count": 4,
     "metadata": {},
     "output_type": "execute_result"
    }
   ],
   "source": [
    "duckdb.query('''\n",
    "SELECT\n",
    "    MAX(LEN(Moves) -  LEN(REPLACE(Moves, ' ', '')) + 1)\n",
    "FROM read_parquet('data/raw_game_data/*.parquet.zstd')\n",
    "''').df()"
   ]
  },
  {
   "cell_type": "code",
   "execution_count": 6,
   "id": "b36396db-f3e3-461d-83db-35c6c7ba42f6",
   "metadata": {},
   "outputs": [],
   "source": [
    "lengths = duckdb.query('''\n",
    "SELECT\n",
    "    LEN(Moves) -  LEN(REPLACE(Moves, ' ', '')) + 1\n",
    "FROM read_parquet('data/raw_game_data/*.parquet.zstd')\n",
    "''').df()"
   ]
  },
  {
   "cell_type": "code",
   "execution_count": 10,
   "id": "ec243f4d-d395-4e23-bfe1-c4f3f16ff7e1",
   "metadata": {},
   "outputs": [
    {
     "data": {
      "text/html": [
       "<div>\n",
       "<style scoped>\n",
       "    .dataframe tbody tr th:only-of-type {\n",
       "        vertical-align: middle;\n",
       "    }\n",
       "\n",
       "    .dataframe tbody tr th {\n",
       "        vertical-align: top;\n",
       "    }\n",
       "\n",
       "    .dataframe thead th {\n",
       "        text-align: right;\n",
       "    }\n",
       "</style>\n",
       "<table border=\"1\" class=\"dataframe\">\n",
       "  <thead>\n",
       "    <tr style=\"text-align: right;\">\n",
       "      <th></th>\n",
       "      <th>((len(Moves) - len(replace(Moves, ' ', ''))) + 1)</th>\n",
       "    </tr>\n",
       "  </thead>\n",
       "  <tbody>\n",
       "    <tr>\n",
       "      <th>count</th>\n",
       "      <td>1.872160e+08</td>\n",
       "    </tr>\n",
       "    <tr>\n",
       "      <th>mean</th>\n",
       "      <td>2.740065e+02</td>\n",
       "    </tr>\n",
       "    <tr>\n",
       "      <th>std</th>\n",
       "      <td>1.269109e+02</td>\n",
       "    </tr>\n",
       "    <tr>\n",
       "      <th>min</th>\n",
       "      <td>4.000000e+00</td>\n",
       "    </tr>\n",
       "    <tr>\n",
       "      <th>25%</th>\n",
       "      <td>1.840000e+02</td>\n",
       "    </tr>\n",
       "    <tr>\n",
       "      <th>50%</th>\n",
       "      <td>2.560000e+02</td>\n",
       "    </tr>\n",
       "    <tr>\n",
       "      <th>75%</th>\n",
       "      <td>3.520000e+02</td>\n",
       "    </tr>\n",
       "    <tr>\n",
       "      <th>max</th>\n",
       "      <td>2.404000e+03</td>\n",
       "    </tr>\n",
       "  </tbody>\n",
       "</table>\n",
       "</div>"
      ],
      "text/plain": [
       "       ((len(Moves) - len(replace(Moves, ' ', ''))) + 1)\n",
       "count                                       1.872160e+08\n",
       "mean                                        2.740065e+02\n",
       "std                                         1.269109e+02\n",
       "min                                         4.000000e+00\n",
       "25%                                         1.840000e+02\n",
       "50%                                         2.560000e+02\n",
       "75%                                         3.520000e+02\n",
       "max                                         2.404000e+03"
      ]
     },
     "execution_count": 10,
     "metadata": {},
     "output_type": "execute_result"
    }
   ],
   "source": [
    "lengths.describe()"
   ]
  },
  {
   "cell_type": "code",
   "execution_count": 19,
   "id": "751b4974-4c97-4764-a590-a442c38766e9",
   "metadata": {},
   "outputs": [
    {
     "data": {
      "text/plain": [
       "((len(Moves) - len(replace(Moves, ' ', ''))) + 1)    768.0\n",
       "Name: 0.999, dtype: float64"
      ]
     },
     "execution_count": 19,
     "metadata": {},
     "output_type": "execute_result"
    }
   ],
   "source": [
    "lengths.quantile(0.999)"
   ]
  },
  {
   "cell_type": "code",
   "execution_count": 21,
   "id": "15dfcc96-b213-4785-aa81-4db348aaf569",
   "metadata": {},
   "outputs": [
    {
     "data": {
      "text/plain": [
       "((len(Moves) - len(replace(Moves, ' ', ''))) + 1)    8548692\n",
       "dtype: int64"
      ]
     },
     "execution_count": 21,
     "metadata": {},
     "output_type": "execute_result"
    }
   ],
   "source": [
    "(lengths > 512).sum()"
   ]
  },
  {
   "cell_type": "code",
   "execution_count": 33,
   "id": "95c922aa-707b-4d97-92b1-c6962311e8d4",
   "metadata": {},
   "outputs": [
    {
     "data": {
      "text/plain": [
       "┌───────────────────────────────────────────────────────────────────────┐\n",
       "│                                 Moves                                 │\n",
       "│                                varchar                                │\n",
       "├───────────────────────────────────────────────────────────────────────┤\n",
       "│ p e2 e4 - p a7 a5 - b f1 c4 - p c7 c5 - q d1 f3 - p e7 e5 - q f3 f7 - │\n",
       "└───────────────────────────────────────────────────────────────────────┘"
      ]
     },
     "execution_count": 33,
     "metadata": {},
     "output_type": "execute_result"
    }
   ],
   "source": [
    "duckdb.query('''\n",
    "SELECT\n",
    "    Moves\n",
    "FROM read_parquet('data/raw_game_data/*.parquet.zstd')\n",
    "WHERE LEN(Moves) < 80 AND LEN(Moves) > 40\n",
    "LIMIT 1\n",
    "''')"
   ]
  }
 ],
 "metadata": {
  "kernelspec": {
   "display_name": "Python 3 (ipykernel)",
   "language": "python",
   "name": "python3"
  },
  "language_info": {
   "codemirror_mode": {
    "name": "ipython",
    "version": 3
   },
   "file_extension": ".py",
   "mimetype": "text/x-python",
   "name": "python",
   "nbconvert_exporter": "python",
   "pygments_lexer": "ipython3",
   "version": "3.8.10"
  }
 },
 "nbformat": 4,
 "nbformat_minor": 5
}
