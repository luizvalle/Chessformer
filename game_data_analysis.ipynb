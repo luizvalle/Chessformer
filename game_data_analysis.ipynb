{
 "cells": [
  {
   "cell_type": "markdown",
   "id": "4f634cc9",
   "metadata": {},
   "source": [
    "# Chessformer - Data analysis"
   ]
  },
  {
   "cell_type": "markdown",
   "id": "253dd74c",
   "metadata": {},
   "source": [
    "## Imports"
   ]
  },
  {
   "cell_type": "code",
   "execution_count": 48,
   "id": "ba27cda0-042f-4b20-a26e-865a50a4ab7d",
   "metadata": {},
   "outputs": [],
   "source": [
    "import duckdb"
   ]
  },
  {
   "cell_type": "markdown",
   "id": "ab40e291-ea6f-4d81-9263-7217382862c9",
   "metadata": {},
   "source": [
    "## Data analysis"
   ]
  },
  {
   "cell_type": "code",
   "execution_count": 47,
   "id": "45981241-31fc-48c9-9ac3-5eb6d7141153",
   "metadata": {},
   "outputs": [
    {
     "data": {
      "text/html": [
       "<div>\n",
       "<style scoped>\n",
       "    .dataframe tbody tr th:only-of-type {\n",
       "        vertical-align: middle;\n",
       "    }\n",
       "\n",
       "    .dataframe tbody tr th {\n",
       "        vertical-align: top;\n",
       "    }\n",
       "\n",
       "    .dataframe thead th {\n",
       "        text-align: right;\n",
       "    }\n",
       "</style>\n",
       "<table border=\"1\" class=\"dataframe\">\n",
       "  <thead>\n",
       "    <tr style=\"text-align: right;\">\n",
       "      <th></th>\n",
       "      <th>date</th>\n",
       "      <th>mean_white_elo</th>\n",
       "    </tr>\n",
       "  </thead>\n",
       "  <tbody>\n",
       "    <tr>\n",
       "      <th>0</th>\n",
       "      <td>2013-10</td>\n",
       "      <td>1606.737356</td>\n",
       "    </tr>\n",
       "    <tr>\n",
       "      <th>1</th>\n",
       "      <td>2014-09</td>\n",
       "      <td>1622.069045</td>\n",
       "    </tr>\n",
       "    <tr>\n",
       "      <th>2</th>\n",
       "      <td>2015-10</td>\n",
       "      <td>1641.416630</td>\n",
       "    </tr>\n",
       "    <tr>\n",
       "      <th>3</th>\n",
       "      <td>2015-11</td>\n",
       "      <td>1661.431204</td>\n",
       "    </tr>\n",
       "    <tr>\n",
       "      <th>4</th>\n",
       "      <td>2017-12</td>\n",
       "      <td>1591.770160</td>\n",
       "    </tr>\n",
       "    <tr>\n",
       "      <th>...</th>\n",
       "      <td>...</td>\n",
       "      <td>...</td>\n",
       "    </tr>\n",
       "    <tr>\n",
       "      <th>66</th>\n",
       "      <td>2013-09</td>\n",
       "      <td>1610.616196</td>\n",
       "    </tr>\n",
       "    <tr>\n",
       "      <th>67</th>\n",
       "      <td>2018-06</td>\n",
       "      <td>1563.838943</td>\n",
       "    </tr>\n",
       "    <tr>\n",
       "      <th>68</th>\n",
       "      <td>2017-11</td>\n",
       "      <td>1600.467297</td>\n",
       "    </tr>\n",
       "    <tr>\n",
       "      <th>69</th>\n",
       "      <td>2014-11</td>\n",
       "      <td>1623.396021</td>\n",
       "    </tr>\n",
       "    <tr>\n",
       "      <th>70</th>\n",
       "      <td>2013-08</td>\n",
       "      <td>1613.557653</td>\n",
       "    </tr>\n",
       "  </tbody>\n",
       "</table>\n",
       "<p>71 rows × 2 columns</p>\n",
       "</div>"
      ],
      "text/plain": [
       "       date  mean_white_elo\n",
       "0   2013-10     1606.737356\n",
       "1   2014-09     1622.069045\n",
       "2   2015-10     1641.416630\n",
       "3   2015-11     1661.431204\n",
       "4   2017-12     1591.770160\n",
       "..      ...             ...\n",
       "66  2013-09     1610.616196\n",
       "67  2018-06     1563.838943\n",
       "68  2017-11     1600.467297\n",
       "69  2014-11     1623.396021\n",
       "70  2013-08     1613.557653\n",
       "\n",
       "[71 rows x 2 columns]"
      ]
     },
     "execution_count": 47,
     "metadata": {},
     "output_type": "execute_result"
    }
   ],
   "source": [
    "duckdb.query('''\n",
    "SELECT\n",
    "    strftime(Timestamp, '%Y-%m') AS date,\n",
    "    MEAN(WhiteElo) AS mean_white_elo\n",
    "FROM read_parquet('data/raw_game_data/*.parquet.zstd')\n",
    "GROUP BY 1\n",
    "''').df()"
   ]
  }
 ],
 "metadata": {
  "kernelspec": {
   "display_name": "Python 3 (ipykernel)",
   "language": "python",
   "name": "python3"
  },
  "language_info": {
   "codemirror_mode": {
    "name": "ipython",
    "version": 3
   },
   "file_extension": ".py",
   "mimetype": "text/x-python",
   "name": "python",
   "nbconvert_exporter": "python",
   "pygments_lexer": "ipython3",
   "version": "3.8.10"
  }
 },
 "nbformat": 4,
 "nbformat_minor": 5
}
