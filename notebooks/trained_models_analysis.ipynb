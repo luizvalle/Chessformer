{
 "cells": [
  {
   "cell_type": "markdown",
   "id": "54930676-e195-4d64-84df-56aaf922203f",
   "metadata": {},
   "source": [
    "## Imports"
   ]
  },
  {
   "cell_type": "code",
   "execution_count": 1,
   "id": "afd405e5-0e80-49fb-ba4d-01a44c9be473",
   "metadata": {},
   "outputs": [],
   "source": [
    "import tensorflow as tf"
   ]
  },
  {
   "cell_type": "markdown",
   "id": "428ecc33-e80c-4c32-82e5-cd9be59525a9",
   "metadata": {},
   "source": [
    "## Result classifier"
   ]
  },
  {
   "cell_type": "code",
   "execution_count": 4,
   "id": "f8cf5e35-35aa-419a-a90c-100c46fbd58c",
   "metadata": {},
   "outputs": [
    {
     "name": "stdout",
     "output_type": "stream",
     "text": [
      "Model: \"chessformer_result_classifier_1\"\n",
      "_________________________________________________________________\n",
      " Layer (type)                Output Shape              Param #   \n",
      "=================================================================\n",
      " encoder_1 (Encoder)         multiple                  7395840   \n",
      "                                                                 \n",
      " result_classification_1 (R  multiple                  37187     \n",
      " esultClassification)                                            \n",
      "                                                                 \n",
      "=================================================================\n",
      "Total params: 7433027 (28.35 MB)\n",
      "Trainable params: 7433027 (28.35 MB)\n",
      "Non-trainable params: 0 (0.00 Byte)\n",
      "_________________________________________________________________\n"
     ]
    }
   ],
   "source": [
    "result_classifier = tf.keras.models.load_model(\"model_artifacts/result_classifier/saved_model/chessformer_result_classifier.keras\")\n",
    "result_classifier.summary()"
   ]
  },
  {
   "cell_type": "code",
   "execution_count": null,
   "id": "fc181493-b57e-4e34-99fe-16baa4a9f837",
   "metadata": {},
   "outputs": [],
   "source": []
  }
 ],
 "metadata": {
  "kernelspec": {
   "display_name": "Python 3 (ipykernel)",
   "language": "python",
   "name": "python3"
  },
  "language_info": {
   "codemirror_mode": {
    "name": "ipython",
    "version": 3
   },
   "file_extension": ".py",
   "mimetype": "text/x-python",
   "name": "python",
   "nbconvert_exporter": "python",
   "pygments_lexer": "ipython3",
   "version": "3.8.10"
  }
 },
 "nbformat": 4,
 "nbformat_minor": 5
}
