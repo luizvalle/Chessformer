{
  "nbformat": 4,
  "nbformat_minor": 0,
  "metadata": {
    "colab": {
      "provenance": [],
      "toc_visible": true,
      "mount_file_id": "1_zrZonz3DcY3_4PB-bFy1_cwh-tNDt_H",
      "authorship_tag": "ABX9TyPsmzl2L7JZVxfedYHKQcFh",
      "include_colab_link": true
    },
    "kernelspec": {
      "name": "python3",
      "display_name": "Python 3"
    },
    "language_info": {
      "name": "python"
    }
  },
  "cells": [
    {
      "cell_type": "markdown",
      "metadata": {
        "id": "view-in-github",
        "colab_type": "text"
      },
      "source": [
        "<a href=\"https://colab.research.google.com/github/luizvalle/Chessformer/blob/main/chessformer.ipynb\" target=\"_parent\"><img src=\"https://colab.research.google.com/assets/colab-badge.svg\" alt=\"Open In Colab\"/></a>"
      ]
    },
    {
      "cell_type": "code",
      "source": [
        "# @title Install dependencies {display-mode: \"form\"}\n",
        "%%shell\n",
        "pip install chess\n",
        "pip install zstd"
      ],
      "metadata": {
        "colab": {
          "base_uri": "https://localhost:8080/"
        },
        "id": "qiSkNa-UqiyN",
        "outputId": "f15028f0-ae58-405a-fa84-9f34508affd1"
      },
      "execution_count": 16,
      "outputs": [
        {
          "output_type": "stream",
          "name": "stdout",
          "text": [
            "Requirement already satisfied: chess in /usr/local/lib/python3.10/dist-packages (1.10.0)\n",
            "Collecting zstd\n",
            "  Downloading zstd-1.5.5.1-cp310-cp310-manylinux_2_17_x86_64.manylinux2014_x86_64.whl (1.8 MB)\n",
            "\u001b[2K     \u001b[90m━━━━━━━━━━━━━━━━━━━━━━━━━━━━━━━━━━━━━━━━\u001b[0m \u001b[32m1.8/1.8 MB\u001b[0m \u001b[31m17.7 MB/s\u001b[0m eta \u001b[36m0:00:00\u001b[0m\n",
            "\u001b[?25hInstalling collected packages: zstd\n",
            "Successfully installed zstd-1.5.5.1\n"
          ]
        },
        {
          "output_type": "execute_result",
          "data": {
            "text/plain": []
          },
          "metadata": {},
          "execution_count": 16
        }
      ]
    },
    {
      "cell_type": "code",
      "source": [
        "# @title Imports {display-mode: \"form\"}\n",
        "import chess.pgn\n",
        "import zstandard as zstd\n",
        "import requests\n",
        "import io\n",
        "\n",
        "from pprint import pprint"
      ],
      "metadata": {
        "id": "oyBnQ5fxrxA_"
      },
      "execution_count": 82,
      "outputs": []
    },
    {
      "cell_type": "markdown",
      "source": [
        "## Download and prepare the data"
      ],
      "metadata": {
        "id": "ObIYLSPVk7xc"
      }
    },
    {
      "cell_type": "code",
      "source": [
        "DOWNLOAD_LIST = \"https://database.lichess.org/standard/list.txt\"\n",
        "download_links = requests.get(DOWNLOAD_LIST).text.split('\\n')\n",
        "pprint(download_links[0:5])"
      ],
      "metadata": {
        "colab": {
          "base_uri": "https://localhost:8080/"
        },
        "id": "kH2kAAx0wuYm",
        "outputId": "1d02568c-1d4a-4ae4-8e3b-4aee99972b8a"
      },
      "execution_count": 83,
      "outputs": [
        {
          "output_type": "stream",
          "name": "stdout",
          "text": [
            "['https://database.lichess.org/standard/lichess_db_standard_rated_2023-09.pgn.zst',\n",
            " 'https://database.lichess.org/standard/lichess_db_standard_rated_2023-08.pgn.zst',\n",
            " 'https://database.lichess.org/standard/lichess_db_standard_rated_2023-07.pgn.zst',\n",
            " 'https://database.lichess.org/standard/lichess_db_standard_rated_2023-06.pgn.zst',\n",
            " 'https://database.lichess.org/standard/lichess_db_standard_rated_2023-05.pgn.zst']\n"
          ]
        }
      ]
    },
    {
      "cell_type": "code",
      "source": [
        "class CompressedPgnIterator:\n",
        "  def __init__(self, download_link):\n",
        "      dctx = zstd.ZstdDecompressor()\n",
        "      response = requests.get(url=download_link, stream=True)\n",
        "      reader = dctx.stream_reader(response.raw)\n",
        "      self.text_stream = io.TextIOWrapper(reader, encoding='utf-8')\n",
        "\n",
        "  def __iter__(self):\n",
        "      return self\n",
        "\n",
        "  def __next__(self):\n",
        "    game = chess.pgn.read_game(self.text_stream)\n",
        "    if game:\n",
        "      return game\n",
        "    else:\n",
        "      raise StopIteration"
      ],
      "metadata": {
        "id": "LbQqRU8A2k1z"
      },
      "execution_count": 85,
      "outputs": []
    },
    {
      "cell_type": "code",
      "source": [
        "events = set()\n",
        "results = set()\n",
        "elos = set()\n",
        "time_controls = set()\n",
        "terminations = set()\n",
        "for download_link in download_links:\n",
        "  games = CompressedPgnIterator(download_link)\n",
        "  for game in games:\n",
        "    events.add(game.headers[\"Event\"])\n",
        "    results.add(game.headers[\"Result\"])\n",
        "    elos.add(game.headers[\"WhiteElo\"])\n",
        "    elos.add(game.headers[\"BlackElo\"])\n",
        "    time_controls.add(game.headers[\"TimeControl\"])\n",
        "    terminations.add(game.headers[\"Termination\"])"
      ],
      "metadata": {
        "id": "TeaXBQ2n3QOk"
      },
      "execution_count": null,
      "outputs": []
    },
    {
      "cell_type": "code",
      "source": [
        "print(events)"
      ],
      "metadata": {
        "id": "pJmvMbma5rLC"
      },
      "execution_count": null,
      "outputs": []
    },
    {
      "cell_type": "code",
      "source": [
        "print(results)"
      ],
      "metadata": {
        "id": "AeHI9WQh5t60"
      },
      "execution_count": null,
      "outputs": []
    },
    {
      "cell_type": "code",
      "source": [
        "print(elos)"
      ],
      "metadata": {
        "id": "thErzZQ45vT6"
      },
      "execution_count": null,
      "outputs": []
    },
    {
      "cell_type": "code",
      "source": [
        "print(time_controls)"
      ],
      "metadata": {
        "id": "Hvc9mkhS5wM6"
      },
      "execution_count": null,
      "outputs": []
    },
    {
      "cell_type": "code",
      "source": [],
      "metadata": {
        "id": "wLC6Og5g5ywf"
      },
      "execution_count": null,
      "outputs": []
    }
  ]
}