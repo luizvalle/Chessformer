{
  "nbformat": 4,
  "nbformat_minor": 0,
  "metadata": {
    "colab": {
      "provenance": [],
      "include_colab_link": true
    },
    "kernelspec": {
      "name": "python3",
      "display_name": "Python 3"
    },
    "language_info": {
      "name": "python"
    },
    "widgets": {
      "application/vnd.jupyter.widget-state+json": {
        "fd45904662364e7e9743eae7e8520c3f": {
          "model_module": "@jupyter-widgets/controls",
          "model_name": "HBoxModel",
          "model_module_version": "1.5.0",
          "state": {
            "_dom_classes": [],
            "_model_module": "@jupyter-widgets/controls",
            "_model_module_version": "1.5.0",
            "_model_name": "HBoxModel",
            "_view_count": null,
            "_view_module": "@jupyter-widgets/controls",
            "_view_module_version": "1.5.0",
            "_view_name": "HBoxView",
            "box_style": "",
            "children": [
              "IPY_MODEL_ac711cce551849bbba2b2458c089b68f",
              "IPY_MODEL_a2fc3c7f24724d1ab401542ed7c94039",
              "IPY_MODEL_a5ce11e660e644ccbaa6b9211b9f018b"
            ],
            "layout": "IPY_MODEL_381f725560d84b7da3dd58ab5faf8183"
          }
        },
        "ac711cce551849bbba2b2458c089b68f": {
          "model_module": "@jupyter-widgets/controls",
          "model_name": "HTMLModel",
          "model_module_version": "1.5.0",
          "state": {
            "_dom_classes": [],
            "_model_module": "@jupyter-widgets/controls",
            "_model_module_version": "1.5.0",
            "_model_name": "HTMLModel",
            "_view_count": null,
            "_view_module": "@jupyter-widgets/controls",
            "_view_module_version": "1.5.0",
            "_view_name": "HTMLView",
            "description": "",
            "description_tooltip": null,
            "layout": "IPY_MODEL_f0fcfe77e115426a9aa1e8737676b3a1",
            "placeholder": "​",
            "style": "IPY_MODEL_46e4f53d1fe94f1192094faf4fd3e966",
            "value": "DONE:   0%"
          }
        },
        "a2fc3c7f24724d1ab401542ed7c94039": {
          "model_module": "@jupyter-widgets/controls",
          "model_name": "FloatProgressModel",
          "model_module_version": "1.5.0",
          "state": {
            "_dom_classes": [],
            "_model_module": "@jupyter-widgets/controls",
            "_model_module_version": "1.5.0",
            "_model_name": "FloatProgressModel",
            "_view_count": null,
            "_view_module": "@jupyter-widgets/controls",
            "_view_module_version": "1.5.0",
            "_view_name": "ProgressView",
            "bar_style": "",
            "description": "",
            "description_tooltip": null,
            "layout": "IPY_MODEL_5bf4d58448884312ae4f3af385b7a36d",
            "max": 81,
            "min": 0,
            "orientation": "horizontal",
            "style": "IPY_MODEL_7bef4bd6e0324269b2e6cfd16052166a",
            "value": 0
          }
        },
        "a5ce11e660e644ccbaa6b9211b9f018b": {
          "model_module": "@jupyter-widgets/controls",
          "model_name": "HTMLModel",
          "model_module_version": "1.5.0",
          "state": {
            "_dom_classes": [],
            "_model_module": "@jupyter-widgets/controls",
            "_model_module_version": "1.5.0",
            "_model_name": "HTMLModel",
            "_view_count": null,
            "_view_module": "@jupyter-widgets/controls",
            "_view_module_version": "1.5.0",
            "_view_name": "HTMLView",
            "description": "",
            "description_tooltip": null,
            "layout": "IPY_MODEL_3391f1363aed467580c2d30cc2517117",
            "placeholder": "​",
            "style": "IPY_MODEL_8d0c3ee6b4834a0893e507a58f2924cf",
            "value": " 0/81 [00:00&lt;?, ?it/s]"
          }
        },
        "381f725560d84b7da3dd58ab5faf8183": {
          "model_module": "@jupyter-widgets/base",
          "model_name": "LayoutModel",
          "model_module_version": "1.2.0",
          "state": {
            "_model_module": "@jupyter-widgets/base",
            "_model_module_version": "1.2.0",
            "_model_name": "LayoutModel",
            "_view_count": null,
            "_view_module": "@jupyter-widgets/base",
            "_view_module_version": "1.2.0",
            "_view_name": "LayoutView",
            "align_content": null,
            "align_items": null,
            "align_self": null,
            "border": null,
            "bottom": null,
            "display": null,
            "flex": null,
            "flex_flow": null,
            "grid_area": null,
            "grid_auto_columns": null,
            "grid_auto_flow": null,
            "grid_auto_rows": null,
            "grid_column": null,
            "grid_gap": null,
            "grid_row": null,
            "grid_template_areas": null,
            "grid_template_columns": null,
            "grid_template_rows": null,
            "height": null,
            "justify_content": null,
            "justify_items": null,
            "left": null,
            "margin": null,
            "max_height": null,
            "max_width": null,
            "min_height": null,
            "min_width": null,
            "object_fit": null,
            "object_position": null,
            "order": null,
            "overflow": null,
            "overflow_x": null,
            "overflow_y": null,
            "padding": null,
            "right": null,
            "top": null,
            "visibility": null,
            "width": null
          }
        },
        "f0fcfe77e115426a9aa1e8737676b3a1": {
          "model_module": "@jupyter-widgets/base",
          "model_name": "LayoutModel",
          "model_module_version": "1.2.0",
          "state": {
            "_model_module": "@jupyter-widgets/base",
            "_model_module_version": "1.2.0",
            "_model_name": "LayoutModel",
            "_view_count": null,
            "_view_module": "@jupyter-widgets/base",
            "_view_module_version": "1.2.0",
            "_view_name": "LayoutView",
            "align_content": null,
            "align_items": null,
            "align_self": null,
            "border": null,
            "bottom": null,
            "display": null,
            "flex": null,
            "flex_flow": null,
            "grid_area": null,
            "grid_auto_columns": null,
            "grid_auto_flow": null,
            "grid_auto_rows": null,
            "grid_column": null,
            "grid_gap": null,
            "grid_row": null,
            "grid_template_areas": null,
            "grid_template_columns": null,
            "grid_template_rows": null,
            "height": null,
            "justify_content": null,
            "justify_items": null,
            "left": null,
            "margin": null,
            "max_height": null,
            "max_width": null,
            "min_height": null,
            "min_width": null,
            "object_fit": null,
            "object_position": null,
            "order": null,
            "overflow": null,
            "overflow_x": null,
            "overflow_y": null,
            "padding": null,
            "right": null,
            "top": null,
            "visibility": null,
            "width": null
          }
        },
        "46e4f53d1fe94f1192094faf4fd3e966": {
          "model_module": "@jupyter-widgets/controls",
          "model_name": "DescriptionStyleModel",
          "model_module_version": "1.5.0",
          "state": {
            "_model_module": "@jupyter-widgets/controls",
            "_model_module_version": "1.5.0",
            "_model_name": "DescriptionStyleModel",
            "_view_count": null,
            "_view_module": "@jupyter-widgets/base",
            "_view_module_version": "1.2.0",
            "_view_name": "StyleView",
            "description_width": ""
          }
        },
        "5bf4d58448884312ae4f3af385b7a36d": {
          "model_module": "@jupyter-widgets/base",
          "model_name": "LayoutModel",
          "model_module_version": "1.2.0",
          "state": {
            "_model_module": "@jupyter-widgets/base",
            "_model_module_version": "1.2.0",
            "_model_name": "LayoutModel",
            "_view_count": null,
            "_view_module": "@jupyter-widgets/base",
            "_view_module_version": "1.2.0",
            "_view_name": "LayoutView",
            "align_content": null,
            "align_items": null,
            "align_self": null,
            "border": null,
            "bottom": null,
            "display": null,
            "flex": null,
            "flex_flow": null,
            "grid_area": null,
            "grid_auto_columns": null,
            "grid_auto_flow": null,
            "grid_auto_rows": null,
            "grid_column": null,
            "grid_gap": null,
            "grid_row": null,
            "grid_template_areas": null,
            "grid_template_columns": null,
            "grid_template_rows": null,
            "height": null,
            "justify_content": null,
            "justify_items": null,
            "left": null,
            "margin": null,
            "max_height": null,
            "max_width": null,
            "min_height": null,
            "min_width": null,
            "object_fit": null,
            "object_position": null,
            "order": null,
            "overflow": null,
            "overflow_x": null,
            "overflow_y": null,
            "padding": null,
            "right": null,
            "top": null,
            "visibility": null,
            "width": null
          }
        },
        "7bef4bd6e0324269b2e6cfd16052166a": {
          "model_module": "@jupyter-widgets/controls",
          "model_name": "ProgressStyleModel",
          "model_module_version": "1.5.0",
          "state": {
            "_model_module": "@jupyter-widgets/controls",
            "_model_module_version": "1.5.0",
            "_model_name": "ProgressStyleModel",
            "_view_count": null,
            "_view_module": "@jupyter-widgets/base",
            "_view_module_version": "1.2.0",
            "_view_name": "StyleView",
            "bar_color": null,
            "description_width": ""
          }
        },
        "3391f1363aed467580c2d30cc2517117": {
          "model_module": "@jupyter-widgets/base",
          "model_name": "LayoutModel",
          "model_module_version": "1.2.0",
          "state": {
            "_model_module": "@jupyter-widgets/base",
            "_model_module_version": "1.2.0",
            "_model_name": "LayoutModel",
            "_view_count": null,
            "_view_module": "@jupyter-widgets/base",
            "_view_module_version": "1.2.0",
            "_view_name": "LayoutView",
            "align_content": null,
            "align_items": null,
            "align_self": null,
            "border": null,
            "bottom": null,
            "display": null,
            "flex": null,
            "flex_flow": null,
            "grid_area": null,
            "grid_auto_columns": null,
            "grid_auto_flow": null,
            "grid_auto_rows": null,
            "grid_column": null,
            "grid_gap": null,
            "grid_row": null,
            "grid_template_areas": null,
            "grid_template_columns": null,
            "grid_template_rows": null,
            "height": null,
            "justify_content": null,
            "justify_items": null,
            "left": null,
            "margin": null,
            "max_height": null,
            "max_width": null,
            "min_height": null,
            "min_width": null,
            "object_fit": null,
            "object_position": null,
            "order": null,
            "overflow": null,
            "overflow_x": null,
            "overflow_y": null,
            "padding": null,
            "right": null,
            "top": null,
            "visibility": null,
            "width": null
          }
        },
        "8d0c3ee6b4834a0893e507a58f2924cf": {
          "model_module": "@jupyter-widgets/controls",
          "model_name": "DescriptionStyleModel",
          "model_module_version": "1.5.0",
          "state": {
            "_model_module": "@jupyter-widgets/controls",
            "_model_module_version": "1.5.0",
            "_model_name": "DescriptionStyleModel",
            "_view_count": null,
            "_view_module": "@jupyter-widgets/base",
            "_view_module_version": "1.2.0",
            "_view_name": "StyleView",
            "description_width": ""
          }
        }
      }
    }
  },
  "cells": [
    {
      "cell_type": "markdown",
      "metadata": {
        "id": "view-in-github",
        "colab_type": "text"
      },
      "source": [
        "<a href=\"https://colab.research.google.com/github/luizvalle/Chessformer/blob/main/chessformer.ipynb\" target=\"_parent\"><img src=\"https://colab.research.google.com/assets/colab-badge.svg\" alt=\"Open In Colab\"/></a>"
      ]
    },
    {
      "cell_type": "code",
      "source": [
        "from google.colab import drive\n",
        "drive.mount('/content/drive')"
      ],
      "metadata": {
        "colab": {
          "base_uri": "https://localhost:8080/"
        },
        "id": "Iiz_LLZjpWWa",
        "outputId": "593dfa45-1d60-4451-f3fe-f80837d3e369"
      },
      "execution_count": 2,
      "outputs": [
        {
          "output_type": "stream",
          "name": "stdout",
          "text": [
            "Drive already mounted at /content/drive; to attempt to forcibly remount, call drive.mount(\"/content/drive\", force_remount=True).\n"
          ]
        }
      ]
    },
    {
      "cell_type": "code",
      "source": [
        "# @title Install dependencies {display-mode: \"form\"}\n",
        "%%shell\n",
        "pip install chess\n",
        "pip install zstandard\n",
        "pip install pandas\n",
        "pip install numpy\n",
        "pip install parallelbar\n",
        "pip install tqdm"
      ],
      "metadata": {
        "colab": {
          "base_uri": "https://localhost:8080/"
        },
        "id": "qiSkNa-UqiyN",
        "outputId": "59f63b0e-8155-4813-eaf8-7a90556ce351"
      },
      "execution_count": 73,
      "outputs": [
        {
          "output_type": "stream",
          "name": "stdout",
          "text": [
            "Requirement already satisfied: chess in /usr/local/lib/python3.10/dist-packages (1.10.0)\n",
            "Requirement already satisfied: zstandard in /usr/local/lib/python3.10/dist-packages (0.21.0)\n",
            "Requirement already satisfied: pandas in /usr/local/lib/python3.10/dist-packages (1.5.3)\n",
            "Requirement already satisfied: python-dateutil>=2.8.1 in /usr/local/lib/python3.10/dist-packages (from pandas) (2.8.2)\n",
            "Requirement already satisfied: pytz>=2020.1 in /usr/local/lib/python3.10/dist-packages (from pandas) (2023.3.post1)\n",
            "Requirement already satisfied: numpy>=1.21.0 in /usr/local/lib/python3.10/dist-packages (from pandas) (1.23.5)\n",
            "Requirement already satisfied: six>=1.5 in /usr/local/lib/python3.10/dist-packages (from python-dateutil>=2.8.1->pandas) (1.16.0)\n",
            "Requirement already satisfied: numpy in /usr/local/lib/python3.10/dist-packages (1.23.5)\n",
            "Requirement already satisfied: parallelbar in /usr/local/lib/python3.10/dist-packages (1.3.1)\n",
            "Requirement already satisfied: tqdm in /usr/local/lib/python3.10/dist-packages (from parallelbar) (4.66.1)\n",
            "Requirement already satisfied: colorama in /usr/local/lib/python3.10/dist-packages (from parallelbar) (0.4.6)\n"
          ]
        },
        {
          "output_type": "execute_result",
          "data": {
            "text/plain": []
          },
          "metadata": {},
          "execution_count": 73
        }
      ]
    },
    {
      "cell_type": "code",
      "source": [
        "# @title Imports {display-mode: \"form\"}\n",
        "import chess.pgn\n",
        "import zstandard as zstd\n",
        "import requests\n",
        "import io\n",
        "import pandas as pd\n",
        "import numpy as np\n",
        "import re\n",
        "import multiprocessing\n",
        "import os\n",
        "import sys\n",
        "\n",
        "from pprint import pprint\n",
        "from parallelbar import progress_imapu\n",
        "from tqdm import tqdm"
      ],
      "metadata": {
        "id": "oyBnQ5fxrxA_"
      },
      "execution_count": 3,
      "outputs": []
    },
    {
      "cell_type": "markdown",
      "source": [
        "## Download and prepare the data"
      ],
      "metadata": {
        "id": "ObIYLSPVk7xc"
      }
    },
    {
      "cell_type": "code",
      "source": [
        "# @title Fetch the dowload links {display-mode: \"form\"}\n",
        "DOWNLOAD_LIST = \"https://database.lichess.org/standard/list.txt\"\n",
        "download_links = sorted(requests.get(DOWNLOAD_LIST).text.split('\\n'), reverse=False)\n",
        "print(\"Examples:\")\n",
        "pprint(download_links[0:5])"
      ],
      "metadata": {
        "colab": {
          "base_uri": "https://localhost:8080/"
        },
        "id": "kH2kAAx0wuYm",
        "outputId": "6dcfbf7d-a3a3-4cc3-e2fd-a70ca09533f2"
      },
      "execution_count": 4,
      "outputs": [
        {
          "output_type": "stream",
          "name": "stdout",
          "text": [
            "Examples:\n",
            "['https://database.lichess.org/standard/lichess_db_standard_rated_2013-01.pgn.zst',\n",
            " 'https://database.lichess.org/standard/lichess_db_standard_rated_2013-02.pgn.zst',\n",
            " 'https://database.lichess.org/standard/lichess_db_standard_rated_2013-03.pgn.zst',\n",
            " 'https://database.lichess.org/standard/lichess_db_standard_rated_2013-04.pgn.zst',\n",
            " 'https://database.lichess.org/standard/lichess_db_standard_rated_2013-05.pgn.zst']\n"
          ]
        }
      ]
    },
    {
      "cell_type": "code",
      "source": [
        "# @title Define the class to iterate through headers {display-mode: \"form\"}\n",
        "class CompressedPgnHeaderIterator:\n",
        "  def __init__(self, download_link):\n",
        "      dctx = zstd.ZstdDecompressor()\n",
        "      # Stream the results so we do not load everything\n",
        "      # into memory at once\n",
        "      response = requests.get(url=download_link, stream=True)\n",
        "      reader = dctx.stream_reader(response.raw)\n",
        "      self.text_stream = io.TextIOWrapper(reader, encoding='utf-8')\n",
        "\n",
        "  def __iter__(self):\n",
        "      return self\n",
        "\n",
        "  def __next__(self):\n",
        "    header = chess.pgn.read_headers(self.text_stream)\n",
        "    if header:\n",
        "      return header\n",
        "    else:\n",
        "      raise StopIteration"
      ],
      "metadata": {
        "id": "DmMElJGWnkRQ"
      },
      "execution_count": 5,
      "outputs": []
    },
    {
      "cell_type": "code",
      "source": [
        "# @title Prepare chess games metadata for exploration {display-mode: \"form\"}\n",
        "SAVE_DIR = \"/content/drive/MyDrive/Trabalhos Escolares/Data Mining/Dataset/Data exploration\"\n",
        "column_types = {\n",
        "    \"Event\": \"category\",\n",
        "    \"Result\": \"category\",\n",
        "    \"WhiteElo\": \"uint16\",\n",
        "    \"BlackElo\": \"uint16\",\n",
        "    \"TimeControl\": \"category\",\n",
        "    \"Termination\": \"category\"\n",
        "}\n",
        "\n",
        "def path_from_link(download_link):\n",
        "  date = re.search(r\"(\\d{4}-\\d{2}).pgn.zst\", download_link).group(1)\n",
        "  path = f\"{SAVE_DIR}/{date}.parquet.zstd\"\n",
        "  return path\n",
        "\n",
        "def process_headers(download_link, overwrite=False):\n",
        "  path = path_from_link(download_link)\n",
        "  if not overwrite and os.path.isfile(path):\n",
        "    return\n",
        "  date = re.search(r\"(\\d{4}-\\d{2}).pgn.zst\", download_link).group(1)\n",
        "  headers = CompressedPgnHeaderIterator(download_link)\n",
        "  games_info = [{\n",
        "        \"Event\": header[\"Event\"],\n",
        "        \"Result\": header[\"Result\"],\n",
        "        \"WhiteElo\": int(header[\"WhiteElo\"]) if header[\"WhiteElo\"].isnumeric() else 0,\n",
        "        \"BlackElo\": int(header[\"BlackElo\"]) if header[\"BlackElo\"].isnumeric() else 0,\n",
        "        \"TimeControl\": header[\"TimeControl\"],\n",
        "        \"Termination\": header[\"Termination\"]}\n",
        "        for header in headers]\n",
        "  df = pd.DataFrame(data=games_info).astype(column_types)\n",
        "  df.to_parquet(\n",
        "      path=f\"/content/drive/MyDrive/Trabalhos Escolares/Data Mining/Dataset/Data exploration/{date}.parquet.zstd\",\n",
        "      compression=\"zstd\"\n",
        "      )\n",
        "\n",
        "unprocessed_links = list()\n",
        "for download_link in download_links:\n",
        "  path = path_from_link(download_link)\n",
        "  if not os.path.isfile(path):\n",
        "    unprocessed_links.append(download_link)\n",
        "\n",
        "progress_imapu(func=process_headers, tasks=unprocessed_links, chunk_size=5, n_cpu=multiprocessing.cpu_count() + 2)"
      ],
      "metadata": {
        "id": "TeaXBQ2n3QOk",
        "outputId": "16afbdb1-37c1-45a9-e70e-490a3e405acc",
        "colab": {
          "base_uri": "https://localhost:8080/",
          "height": 49,
          "referenced_widgets": [
            "fd45904662364e7e9743eae7e8520c3f",
            "ac711cce551849bbba2b2458c089b68f",
            "a2fc3c7f24724d1ab401542ed7c94039",
            "a5ce11e660e644ccbaa6b9211b9f018b",
            "381f725560d84b7da3dd58ab5faf8183",
            "f0fcfe77e115426a9aa1e8737676b3a1",
            "46e4f53d1fe94f1192094faf4fd3e966",
            "5bf4d58448884312ae4f3af385b7a36d",
            "7bef4bd6e0324269b2e6cfd16052166a",
            "3391f1363aed467580c2d30cc2517117",
            "8d0c3ee6b4834a0893e507a58f2924cf"
          ]
        }
      },
      "execution_count": null,
      "outputs": [
        {
          "output_type": "display_data",
          "data": {
            "text/plain": [
              "DONE:   0%|          | 0/81 [00:00<?, ?it/s]"
            ],
            "application/vnd.jupyter.widget-view+json": {
              "version_major": 2,
              "version_minor": 0,
              "model_id": "fd45904662364e7e9743eae7e8520c3f"
            }
          },
          "metadata": {}
        }
      ]
    },
    {
      "cell_type": "code",
      "source": [
        "# @title Define the class to iterate through games {display-mode: \"form\"}\n",
        "class CompressedPgnGameIterator:\n",
        "  def __init__(self, download_link):\n",
        "      dctx = zstd.ZstdDecompressor()\n",
        "      # Stream the results so we do not load everything\n",
        "      # into memory at once\n",
        "      response = requests.get(url=download_link, stream=True)\n",
        "      reader = dctx.stream_reader(response.raw)\n",
        "      self.text_stream = io.TextIOWrapper(reader, encoding='utf-8')\n",
        "\n",
        "  def __iter__(self):\n",
        "      return self\n",
        "\n",
        "  def __next__(self):\n",
        "    game = chess.pgn.read_game(self.text_stream)\n",
        "    if game:\n",
        "      return game\n",
        "    else:\n",
        "      raise StopIteration"
      ],
      "metadata": {
        "id": "LbQqRU8A2k1z"
      },
      "execution_count": 76,
      "outputs": []
    }
  ]
}